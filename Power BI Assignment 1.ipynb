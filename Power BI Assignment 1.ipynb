{
 "cells": [
  {
   "cell_type": "markdown",
   "id": "16a5d754",
   "metadata": {},
   "source": [
    "# Q1. What do you mean by BI? Explain."
   ]
  },
  {
   "cell_type": "markdown",
   "id": "13064c54",
   "metadata": {},
   "source": [
    "BI is a set of processes, architectures, and technologies that convert raw data into meaningful information that drives profitable business actions. BI systems help businesses to identify market trends and spot business problems that need to be addressed."
   ]
  },
  {
   "cell_type": "markdown",
   "id": "2ad521bd",
   "metadata": {},
   "source": [
    "# Q2. How Power-BI helps in BI, and how does it help Analysts? Explain."
   ]
  },
  {
   "cell_type": "markdown",
   "id": "865d558e",
   "metadata": {},
   "source": [
    "Power BI is a Data Visualization and Business Intelligence tool by Microsoft that converts data from different data sources to create various business intelligence reports. It provides interactive visualizations using which end users can create reports and interactive dashboards by themselves."
   ]
  },
  {
   "cell_type": "markdown",
   "id": "414052f9",
   "metadata": {},
   "source": [
    "# Q3. Explain Descriptive analytics?"
   ]
  },
  {
   "cell_type": "markdown",
   "id": "33b0a9a6",
   "metadata": {},
   "source": [
    "Descriptive analytics is a statistical method that is used to search and summarize historical data in order to identify patterns or meaning.Data aggregation and data mining are two techniques used in descriptive analytics to discover historical data. Data is first gathered and sorted by data aggregation in order to make the datasets more manageable by analysts."
   ]
  },
  {
   "cell_type": "markdown",
   "id": "1c134147",
   "metadata": {},
   "source": [
    "# Q4. Explain Predictive analytics?"
   ]
  },
  {
   "cell_type": "markdown",
   "id": "4abfc2ec",
   "metadata": {},
   "source": [
    "Predictive analytics definition. Predictive analytics is a branch of advanced analytics that makes predictions about future events, behaviors, and outcomes."
   ]
  },
  {
   "cell_type": "markdown",
   "id": "e0932924",
   "metadata": {},
   "source": [
    "# Q5. Write five real-life questions that PowerBi can solve."
   ]
  },
  {
   "cell_type": "markdown",
   "id": "f1489408",
   "metadata": {},
   "source": [
    "1. Waiting on figures\n",
    "2. Using data fromold reports\n",
    "3. Excessive time spent preparing for presentations\n",
    "4. Being unable to find specific data sets\n",
    "5. "
   ]
  }
 ],
 "metadata": {
  "kernelspec": {
   "display_name": "Python 3 (ipykernel)",
   "language": "python",
   "name": "python3"
  },
  "language_info": {
   "codemirror_mode": {
    "name": "ipython",
    "version": 3
   },
   "file_extension": ".py",
   "mimetype": "text/x-python",
   "name": "python",
   "nbconvert_exporter": "python",
   "pygments_lexer": "ipython3",
   "version": "3.9.2"
  }
 },
 "nbformat": 4,
 "nbformat_minor": 5
}
