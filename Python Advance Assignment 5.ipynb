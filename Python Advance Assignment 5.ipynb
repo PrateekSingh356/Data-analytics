{
 "cells": [
  {
   "cell_type": "markdown",
   "id": "d7f0be6a",
   "metadata": {},
   "source": [
    "# Python Advance Assignment 5"
   ]
  },
  {
   "cell_type": "markdown",
   "id": "459deebe",
   "metadata": {},
   "source": [
    "# Q1. Explain super() in the context of inheritance."
   ]
  },
  {
   "cell_type": "raw",
   "id": "2bfe0c30",
   "metadata": {},
   "source": [
    "At a fairly abstract level, super() provides the access to those methods of the super-class (parent class) which have been overridden in a sub-class (child class) that inherits from it. Consider the code example given below, here we have a class named Square and an another class named Cube which inherits the class Square."
   ]
  },
  {
   "cell_type": "code",
   "execution_count": 3,
   "id": "f25c1670",
   "metadata": {},
   "outputs": [],
   "source": [
    "class Square:\n",
    "    def __init__(self, side):\n",
    "        self.side = side\n",
    "\n",
    "    def area(self):\n",
    "        return self.side * self.side\n",
    "\n",
    "class Cube(Square):\n",
    "    def area(self):\n",
    "        face_area = self.side * self.side\n",
    "        return face_area * 6\n",
    "    def volume(self):\n",
    "        face_area = self.side * self.side\n",
    "        return face_area * self.side\n"
   ]
  },
  {
   "cell_type": "code",
   "execution_count": 5,
   "id": "82550e67",
   "metadata": {},
   "outputs": [],
   "source": [
    "class Cube(Square):\n",
    "    def area(self):\n",
    "        return super().area() * 6\n",
    "    def volume(self):\n",
    "        return super().area() * self.side()\n"
   ]
  },
  {
   "cell_type": "markdown",
   "id": "4b43c547",
   "metadata": {},
   "source": [
    "# Q2. Describe the file-handling system."
   ]
  },
  {
   "cell_type": "raw",
   "id": "6df13205",
   "metadata": {},
   "source": [
    "f = open(filename, mode)\n",
    "\n",
    "Where the following mode is supported:\n",
    "\n",
    "r: open an existing file for a read operation.\n",
    "w: open an existing file for a write operation. If the file already contains some data then it will be overridden.\n",
    "a:  open an existing file for append operation. It won’t override existing data.\n",
    " r+:  To read and write data into the file. The previous data in the file will be overridden.\n",
    "w+: To write and read data. It will override existing data.\n",
    "a+: To append and read data from the file. It won’t override existing data.\n",
    "\n",
    "There is more than one way to read a file in Python. If you need to extract a string that contains all characters in the file then we can use file.read(). The full code would work like this: \n",
    "\n",
    "Python code to illustrate read() mode\n",
    "file = open(\"file.txt\", \"r\")\n",
    "print (file.read())\n",
    "\n",
    "Another way to read a file is to call a certain number of characters like in the following code the interpreter will read the first five characters of stored data and return it as a string:\n",
    "\n",
    "Python code to illustrate read() mode character wise\n",
    "file = open(\"file.txt\", \"r\")\n",
    "print (file.read(5))\n",
    "\n",
    "Python code to create a file\n",
    "file = open('geek.txt','w')\n",
    "file.write(\"This is the write command\")\n",
    "file.write(\"It allows us to write in a particular file\")\n",
    "file.close()\n",
    "\n",
    "Python code to create a file\n",
    "file = open('geek.txt','w')\n",
    "file.write(\"This is the write command\")\n",
    "file.write(\"It allows us to write in a particular file\")\n",
    "file.close()"
   ]
  },
  {
   "cell_type": "markdown",
   "id": "4cae67d8",
   "metadata": {},
   "source": [
    "# Q3. In Python, explain multiple inheritance."
   ]
  },
  {
   "cell_type": "markdown",
   "id": "18bced4d",
   "metadata": {},
   "source": [
    "A class can be derived from more than one base class in Python, similar to C++. This is called multiple inheritance.\n",
    "\n",
    "In multiple inheritance, the features of all the base classes are inherited into the derived class. The syntax for multiple inheritance is similar to single inheritance."
   ]
  },
  {
   "cell_type": "code",
   "execution_count": 6,
   "id": "7a362a0c",
   "metadata": {},
   "outputs": [],
   "source": [
    "class Base1:\n",
    "    pass\n",
    "\n",
    "class Base2:\n",
    "    pass\n",
    "\n",
    "class MultiDerived(Base1, Base2):\n",
    "    pass"
   ]
  },
  {
   "cell_type": "markdown",
   "id": "c9c18118",
   "metadata": {},
   "source": [
    "# Q4. Write the MySQL query syntax for INSERT, UPDATE, and DROP."
   ]
  },
  {
   "cell_type": "code",
   "execution_count": null,
   "id": "458a3194",
   "metadata": {},
   "outputs": [],
   "source": [
    "import mysql.connector\n",
    "\n",
    "mydb = mysql.connector.connect(\n",
    "  host=\"localhost\",\n",
    "  user=\"yourusername\",\n",
    "  password=\"yourpassword\",\n",
    "  database=\"mydatabase\"\n",
    ")\n",
    "\n",
    "mycursor = mydb.cursor()\n",
    "\n",
    "sql = \"INSERT INTO customers (name, address) VALUES (%s, %s)\"\n",
    "val = (\"John\", \"Highway 21\")\n",
    "mycursor.execute(sql, val)\n",
    "\n",
    "mydb.commit()\n",
    "\n",
    "print(mycursor.rowcount, \"record inserted.\")"
   ]
  },
  {
   "cell_type": "code",
   "execution_count": null,
   "id": "394de1d8",
   "metadata": {},
   "outputs": [],
   "source": [
    "import mysql.connector\n",
    "\n",
    "mydb = mysql.connector.connect(\n",
    "  host=\"localhost\",\n",
    "  user=\"yourusername\",\n",
    "  password=\"yourpassword\",\n",
    "  database=\"mydatabase\"\n",
    ")\n",
    "\n",
    "mycursor = mydb.cursor()\n",
    "\n",
    "sql = \"UPDATE customers SET address = 'Canyon 123' WHERE address = 'Valley 345'\"\n",
    "sql1 = \"DROP Table customer\"\n",
    "\n",
    "mycursor.execute(sql)\n",
    "\n",
    "mydb.commit()\n",
    "\n",
    "print(mycursor.rowcount, \"record(s) affected\")"
   ]
  },
  {
   "cell_type": "markdown",
   "id": "fc1cb3af",
   "metadata": {},
   "source": [
    "# Q5. Describe MongoDB's features."
   ]
  },
  {
   "cell_type": "code",
   "execution_count": 2,
   "id": "e9e8d47d",
   "metadata": {},
   "outputs": [
    {
     "name": "stdout",
     "output_type": "stream",
     "text": [
      "Density is: 0.5625\n",
      "The surface area is: 28\n",
      "The volume is: 8\n"
     ]
    }
   ],
   "source": [
    "1. Ad-hoc queries for optimized, real-time analytics\n",
    "2. Indexing appropriately for better query executions\n"
   ]
  },
  {
   "cell_type": "code",
   "execution_count": null,
   "id": "aac992dc",
   "metadata": {},
   "outputs": [],
   "source": []
  }
 ],
 "metadata": {
  "kernelspec": {
   "display_name": "Python 3 (ipykernel)",
   "language": "python",
   "name": "python3"
  },
  "language_info": {
   "codemirror_mode": {
    "name": "ipython",
    "version": 3
   },
   "file_extension": ".py",
   "mimetype": "text/x-python",
   "name": "python",
   "nbconvert_exporter": "python",
   "pygments_lexer": "ipython3",
   "version": "3.9.2"
  }
 },
 "nbformat": 4,
 "nbformat_minor": 5
}
