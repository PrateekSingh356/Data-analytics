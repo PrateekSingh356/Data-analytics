{
 "cells": [
  {
   "cell_type": "markdown",
   "id": "d7f0be6a",
   "metadata": {},
   "source": [
    "# Python Advance Assignment 1"
   ]
  },
  {
   "cell_type": "markdown",
   "id": "459deebe",
   "metadata": {},
   "source": [
    "# Q1. Explain three-dimensional data indexing."
   ]
  },
  {
   "cell_type": "markdown",
   "id": "787ddb05",
   "metadata": {},
   "source": [
    "NumPy arrays are high-performance data structures, better suited for mathematical operations than Python's native list data type. A three-dimensional (3D) array is composed of 3 nested levels of arrays, one for each dimension. • We USE numpy.array() TO CREATE A 3D NUMPY ARRAY WITH SPECIFIC VALUES • Call numpy.array(object) with object as a list containing x nested lists, y nested lists inside each of the x nested lists, and z values inside each of the y nested lists to create a x-by-y-by-z 3D NumPy array. • a_3d_array = np.array ([[[1, 2], [3, 4]], [[5, 6], [7, 8]]]) print(a_3d_array) OUTPUT:- [[[1 2] [3 4]] [[5 6] [7 8]]] 2.)"
   ]
  },
  {
   "cell_type": "markdown",
   "id": "4b43c547",
   "metadata": {},
   "source": [
    "# Q2. What's the difference between a series and a dataframe?"
   ]
  },
  {
   "cell_type": "markdown",
   "id": "bfae9a03",
   "metadata": {},
   "source": [
    "A Series is a one-dimensional object that can hold any data type such as integers, floats and strings. It has only one axis (maxis = 0).\n",
    "\n",
    "A DataFrame is a two dimensional object that can have columns with potential different types. A datafrme can be created different kind of inputs which may include dictionaries, lists, series, and even another DataFrame. Individual columns of a dataframe can act as separate Series objects."
   ]
  },
  {
   "cell_type": "markdown",
   "id": "4cae67d8",
   "metadata": {},
   "source": [
    "# Q3. What role does pandas play in data cleaning?"
   ]
  },
  {
   "cell_type": "markdown",
   "id": "18bced4d",
   "metadata": {},
   "source": [
    "Data cleaning with Pandas It is an essential skill of Data Scientists to be able to work with messy data, missing values, inconsistent, noise, or nonsensical data. To work smoothly python provides a built-in module Pandas."
   ]
  },
  {
   "cell_type": "markdown",
   "id": "c9c18118",
   "metadata": {},
   "source": [
    "# Q4. How do you use pandas to make a data frame out of n-dimensional arrays?"
   ]
  },
  {
   "cell_type": "raw",
   "id": "55b053e6",
   "metadata": {},
   "source": [
    "import pandas as pd \n",
    "# Create the dataframe\n",
    "df = pd.DataFrame(numpy_array)\n",
    "df = pd.DataFrame(numpy_array, columns=['digits', 'words']) ... \n",
    "df = pd.DataFrame(numpy_array, index=['day1', 'day2', 'day3', 'day4'], columns=['digits', 'words'])"
   ]
  },
  {
   "cell_type": "markdown",
   "id": "fc1cb3af",
   "metadata": {},
   "source": [
    "# Q5. Explain the notion of pandas plotting."
   ]
  },
  {
   "cell_type": "raw",
   "id": "73c9cc84",
   "metadata": {},
   "source": [
    "Matplotlib is a Python plotting package that makes it simple to create two-dimensional plots from data stored in a variety of data structures including lists, numpy arrays, and pandas dataframes. Matplotlib uses an object oriented approach to plotting • Ex:- \n",
    "import pandas as pd\n",
    "import matplotlib.pyplot as plt\n",
    "df = pd.read_csv('data.csv')\n",
    "df.plot() plt.show()"
   ]
  },
  {
   "cell_type": "code",
   "execution_count": null,
   "id": "aac992dc",
   "metadata": {},
   "outputs": [],
   "source": []
  }
 ],
 "metadata": {
  "kernelspec": {
   "display_name": "Python 3 (ipykernel)",
   "language": "python",
   "name": "python3"
  },
  "language_info": {
   "codemirror_mode": {
    "name": "ipython",
    "version": 3
   },
   "file_extension": ".py",
   "mimetype": "text/x-python",
   "name": "python",
   "nbconvert_exporter": "python",
   "pygments_lexer": "ipython3",
   "version": "3.9.2"
  }
 },
 "nbformat": 4,
 "nbformat_minor": 5
}
