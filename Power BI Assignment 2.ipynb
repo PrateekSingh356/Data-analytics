{
 "cells": [
  {
   "cell_type": "markdown",
   "id": "d7f0be6a",
   "metadata": {},
   "source": [
    "# Q1. List and explain different PowerBi products?"
   ]
  },
  {
   "cell_type": "markdown",
   "id": "787ddb05",
   "metadata": {},
   "source": [
    "Power BI Desktop\n",
    "\n",
    "It is the main Power BI Application where an Analyst can connect application to multiple data sources and analyze data to create reports to business stakeholder. This product comes with free, pro and premium versions which costs accordingly. Free version doesn't allow analysts to share reports to other users.\n",
    "\n",
    "Power BI service\n",
    "\n",
    "It is a product where stakeholders can get access to reports created by developers/Analyst to see performance of their business or whatever task assigned to the Team. stakeholders can get access to them oce analyst publishes them in the shared workspace. They can also create and modify dashboards of their own.\n",
    "\n",
    "Power BI Mobile\n",
    "\n",
    "It is similar to Power BI Service. Stakeholders can access the reports and dashboards through Mobile/Tablet device and view them. It is meant only for viewing contents which means users can't create dashboards in this platform."
   ]
  },
  {
   "cell_type": "markdown",
   "id": "4b43c547",
   "metadata": {},
   "source": [
    "# Q2. What limitations of Excel, Microsoft solved by PowerBi ?"
   ]
  },
  {
   "cell_type": "markdown",
   "id": "bfae9a03",
   "metadata": {},
   "source": [
    "The maximum number of rows and columns is limited in Excel. Power BI doesn't limit users on dimension of data.\n",
    "Power BI exceeds Excel feature in Data sources. Power BI can get multiple static, dynamic and streaming data. There 80+ available data sources.\n",
    "The charts and visualizations are much advanced and interactive in Power BI.\n",
    "The analytical engine is Power BI is much more faster than Excel which can save hours in processing.\n",
    "Power BI allows users to share reports and data and collaborate with organization where excel cannot."
   ]
  },
  {
   "cell_type": "markdown",
   "id": "4cae67d8",
   "metadata": {},
   "source": [
    "# Q3. Explain PowerQuery?"
   ]
  },
  {
   "cell_type": "markdown",
   "id": "18bced4d",
   "metadata": {},
   "source": [
    "Power Query is the Heart of Power BI. Power Query Editor allows user to transform data and create queries in much faster way and load them to main window. Power BI allows a massive variety of ways to transform data. Power Query is just one piece of the suite of Power BI and Excel products from Microsoft.\n",
    "\n",
    "These data transformations could include tasks like:\n",
    "\n",
    "Remove columns, rows, blanks\n",
    "Convert data types – text, numbers, dates\n",
    "Split or merge columns\n",
    "Sort & filter columns\n",
    "Add calculated columns\n",
    "Aggregate or summarize data\n",
    "Find & replace text\n",
    "Unpivot data to use for pivot tables\n",
    "It is the mostly used tool by the analyst to get data and pre-process them to use it for final report. It is a must known skill for any developers to user power BI."
   ]
  },
  {
   "cell_type": "markdown",
   "id": "c9c18118",
   "metadata": {},
   "source": [
    "# Q4. Explain PowerMap?"
   ]
  },
  {
   "cell_type": "markdown",
   "id": "4716d760",
   "metadata": {},
   "source": [
    "Power Map feature comes with Power BI as well as Excel from Microsoft. It is a data 3D-visualization tool that lets you map your data and plot more than a million rows of data visually on Bing maps in 3-D format. It is used to plot geo-spacial data in 3D mode. Based on a geographical location, the data can be highlighted."
   ]
  },
  {
   "cell_type": "markdown",
   "id": "fc1cb3af",
   "metadata": {},
   "source": [
    "# Q5. How powerBi eliminated the need to host SharePoint Server on premises?"
   ]
  },
  {
   "cell_type": "markdown",
   "id": "5c7d3dbc",
   "metadata": {},
   "source": [
    "There has been a lot of buzz and questions around connecting your Office 365 tenant to data located on Premises. This is a common requirement and is now made possible with PowerBI.\n",
    "\n",
    "Connecting to your data source is made possible with the Data Management Gateway(DMG) The awesome part of the DMG is that is makes the connection outside the firewall. That means, no reverse proxies, custom web services or firewalls to deal with!\n",
    "\n",
    "Overall, there are few requirements and caveats that I encountered while setting up my demo environment. FYI, I set this up in under and hour, including the time is took to spin up a PowerBI trial.\n",
    "\n",
    "The DMG must be installed on a non-SQL server in your on premises environment. I could not get anything to work on my SQL server so I am thinking this has to be done on a member server.\n",
    "A new Gateway must be created via your bi admin center.\n",
    "You must register the gateway with the on premises DMG client.\n",
    "You can then store your credentials for the data sources on premises OR in the cloud. The benefit to storing the creds in the cloud is you can recover quicker from a system failure."
   ]
  },
  {
   "cell_type": "markdown",
   "id": "48329a82",
   "metadata": {},
   "source": [
    "# Q6. Explain the updates done in Power Bi Service(power BI 2.0) as compared to older version ?"
   ]
  },
  {
   "cell_type": "markdown",
   "id": "e87efcff",
   "metadata": {},
   "source": []
  }
 ],
 "metadata": {
  "kernelspec": {
   "display_name": "Python 3 (ipykernel)",
   "language": "python",
   "name": "python3"
  },
  "language_info": {
   "codemirror_mode": {
    "name": "ipython",
    "version": 3
   },
   "file_extension": ".py",
   "mimetype": "text/x-python",
   "name": "python",
   "nbconvert_exporter": "python",
   "pygments_lexer": "ipython3",
   "version": "3.9.2"
  }
 },
 "nbformat": 4,
 "nbformat_minor": 5
}
