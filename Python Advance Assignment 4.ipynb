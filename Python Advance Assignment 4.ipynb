{
 "cells": [
  {
   "cell_type": "markdown",
   "id": "d7f0be6a",
   "metadata": {},
   "source": [
    "# Python Advance Assignment 4"
   ]
  },
  {
   "cell_type": "markdown",
   "id": "459deebe",
   "metadata": {},
   "source": [
    "# Q1. Explain the differences between Cassandra and typical databases."
   ]
  },
  {
   "cell_type": "raw",
   "id": "90347f07",
   "metadata": {},
   "source": [
    "1. Cassandra is a key-value database and every table should have a unique key which is like primary key in RDBMS. Primary key is not mandatory in RDBMS where as key is mandatory in Cassandra. No two rows can have the same key.\n",
    "\n",
    "2. Cassandra treats insert and update statements in the same way. For an insert, if a row with the specified key value exists in the table, the other field values are updated with the inserted values, where as in RDBMS you will get an insert error. Similarly for update, if the key value specified in the where clause already exists in the table, the row is updated and if it doesn’t exist, then the row with the key value is inserted into the table. A restriction in Cassandra is that you have to provide the key values in the where clause for the update which is not necessary in an RDBMS.\n",
    "\n",
    "3. Cassandra provides replication of data, means each row is replicated to multiple machines. To make writing/reading of data faster, Cassandra provides tunable consistency. For example while writing data, the insert/update statement can return after just writing to log and update of actual data can happen in the background. Similarly while reading data during select, the statement can return the moment 2 of the 3 machines return data (quorum). When to return select results can be controlled by the read consistency level.\n",
    "\n",
    "4. In RDBMS, you can query the table data using any of the columns of the table where as in Cassandra, you can query only based on key columns. In case of composite keys, you can query based on the leading key columns only. For example if the composite key is (key1,key2,key3) then you can specify key1 or key1 and key2 or key1, key2 and key3 in the where clause."
   ]
  },
  {
   "cell_type": "markdown",
   "id": "4b43c547",
   "metadata": {},
   "source": [
    "# Q2. What exactly is CQLSH?"
   ]
  },
  {
   "cell_type": "markdown",
   "id": "bfae9a03",
   "metadata": {},
   "source": [
    "Cassandra Query Language Shell (CQLSH) is basically a communication medium between Cassandra and the user. CQLSH is a platform that allows the user to launch the Cassandra query language (CQL). The user can perform many operations using cqlsh."
   ]
  },
  {
   "cell_type": "markdown",
   "id": "4cae67d8",
   "metadata": {},
   "source": [
    "# Q3. Explain the Cassandra cluster idea."
   ]
  },
  {
   "cell_type": "markdown",
   "id": "18bced4d",
   "metadata": {},
   "source": [
    "Given that Apache Cassandra features were architected with horizontal scalability in mind, Cassandra can scale to a theoretically unlimited number of nodes in a cluster, and Cassandra clusters can be geographically dispersed, with data exchanged between clusters using multi-datacenter replication.\n",
    "\n",
    "In Cassandra a node is either a whole physical server, or an allocated portion of a physical server in a virtualized or containerized environment. Each node will have requisite processing power (CPUs), memory (RAM), and storage (usually, in current servers, in the form of solid-state drives, known as SSDs).\n",
    "\n",
    "These nodes are organized into clusters. Cassandra clusters can be in physical proximity (such as in the same datacenter), or can be distributed over great geographical distances. To organize clusters into datacenters and then also across different racks (to ensure high availability), Cassandra uses a snitch monitor.\n",
    "\n",
    "Cassandra uses a mechanism called multi-datacenter replication to ensure data is transferred and eventually synchronized between its clusters. Note that two Cassandra clusters could be installed side-by-side in the same datacenter yet employ this mechanism to transfer data between the clusters."
   ]
  },
  {
   "cell_type": "markdown",
   "id": "c9c18118",
   "metadata": {},
   "source": [
    "# Q4. Give an example to demonstrate the class notion."
   ]
  },
  {
   "cell_type": "code",
   "execution_count": 1,
   "id": "f676f519",
   "metadata": {},
   "outputs": [
    {
     "name": "stdout",
     "output_type": "stream",
     "text": [
      "Density is: 0.5625\n",
      "The surface area is: 28\n",
      "The volume is: 8\n"
     ]
    }
   ],
   "source": [
    "class Cuboid:\n",
    "    name = \"Cuboid\"\n",
    "\n",
    "    def __init__(self, length, breadth, height, weight):\n",
    "        self.length = length\n",
    "        self.breadth = breadth\n",
    "        self.height = height\n",
    "        self.weight = weight\n",
    "\n",
    "    def volume(self):\n",
    "        x = self.length\n",
    "        y = self.breadth\n",
    "        z = self.height\n",
    "        v = x * y * z\n",
    "        print(\"The volume is:\", v)\n",
    "\n",
    "    def density(self):\n",
    "        x = self.length\n",
    "        y = self.breadth\n",
    "        z = self.height\n",
    "        v = x * y * z\n",
    "        d = self.weight / v\n",
    "        print(\"Density is:\", d)\n",
    "\n",
    "    def surface_area(self):\n",
    "        x = self.length\n",
    "        y = self.breadth\n",
    "        z = self.height\n",
    "        s = 2 * (x * y + y * z + x * z)\n",
    "        print(\"The surface area is:\", s)\n",
    "\n",
    "\n",
    "myCuboid = Cuboid(1, 2, 4,4.5)\n",
    "myCuboid.density()\n",
    "myCuboid.surface_area()\n",
    "myCuboid.volume()"
   ]
  },
  {
   "cell_type": "markdown",
   "id": "fc1cb3af",
   "metadata": {},
   "source": [
    "# Q5. Use an example to explain the object."
   ]
  },
  {
   "cell_type": "code",
   "execution_count": 2,
   "id": "64c80e4d",
   "metadata": {},
   "outputs": [
    {
     "name": "stdout",
     "output_type": "stream",
     "text": [
      "Density is: 0.5625\n",
      "The surface area is: 28\n",
      "The volume is: 8\n"
     ]
    }
   ],
   "source": [
    "class Cuboid:\n",
    "    name = \"Cuboid\"\n",
    "\n",
    "    def __init__(self, length, breadth, height, weight):\n",
    "        self.length = length\n",
    "        self.breadth = breadth\n",
    "        self.height = height\n",
    "        self.weight = weight\n",
    "\n",
    "    def volume(self):\n",
    "        x = self.length\n",
    "        y = self.breadth\n",
    "        z = self.height\n",
    "        v = x * y * z\n",
    "        print(\"The volume is:\", v)\n",
    "\n",
    "    def density(self):\n",
    "        x = self.length\n",
    "        y = self.breadth\n",
    "        z = self.height\n",
    "        v = x * y * z\n",
    "        d = self.weight / v\n",
    "        print(\"Density is:\", d)\n",
    "\n",
    "    def surface_area(self):\n",
    "        x = self.length\n",
    "        y = self.breadth\n",
    "        z = self.height\n",
    "        s = 2 * (x * y + y * z + x * z)\n",
    "        print(\"The surface area is:\", s)\n",
    "\n",
    "\n",
    "myCuboid = Cuboid(1, 2, 4,4.5)\n",
    "myCuboid.density()\n",
    "myCuboid.surface_area()\n",
    "myCuboid.volume()"
   ]
  },
  {
   "cell_type": "code",
   "execution_count": null,
   "id": "aac992dc",
   "metadata": {},
   "outputs": [],
   "source": []
  }
 ],
 "metadata": {
  "kernelspec": {
   "display_name": "Python 3 (ipykernel)",
   "language": "python",
   "name": "python3"
  },
  "language_info": {
   "codemirror_mode": {
    "name": "ipython",
    "version": 3
   },
   "file_extension": ".py",
   "mimetype": "text/x-python",
   "name": "python",
   "nbconvert_exporter": "python",
   "pygments_lexer": "ipython3",
   "version": "3.9.2"
  }
 },
 "nbformat": 4,
 "nbformat_minor": 5
}
