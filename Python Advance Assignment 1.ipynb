{
 "cells": [
  {
   "cell_type": "markdown",
   "id": "d7f0be6a",
   "metadata": {},
   "source": [
    "# Python Advance Assignment 1"
   ]
  },
  {
   "cell_type": "markdown",
   "id": "459deebe",
   "metadata": {},
   "source": [
    "# Q1. What makes NumPy.shape() different from NumPy.size()?"
   ]
  },
  {
   "cell_type": "markdown",
   "id": "787ddb05",
   "metadata": {},
   "source": [
    "Shape() is used to get complete structural shape of our 2Darray. For example(3,4). np. size() will give us how many elements are present in total."
   ]
  },
  {
   "cell_type": "markdown",
   "id": "4b43c547",
   "metadata": {},
   "source": [
    "# Q2. In NumPy, describe the idea of broadcasting."
   ]
  },
  {
   "cell_type": "markdown",
   "id": "bfae9a03",
   "metadata": {},
   "source": [
    "The term broadcasting refers to ability of Numpy to treat arrays Of different shapes during arthimetic operations. Arthimetic operations on arrays are usually done on corresponding elements. If two arrays are of exactly the same shape, then these operations are smoothly performed."
   ]
  },
  {
   "cell_type": "markdown",
   "id": "4cae67d8",
   "metadata": {},
   "source": [
    "# Q3. What makes Python better than other libraries for numerical computation?"
   ]
  },
  {
   "cell_type": "markdown",
   "id": "18bced4d",
   "metadata": {},
   "source": [
    "One of the key features of python is its numerous libraries and packages. Some are written in given below.\n",
    "\n",
    "1)SciPy: The SciPy package includes algorithms and functions which are crux of python scientific computing capabilities.\n",
    "\n",
    "The sub-package includes: *io: Used for the standard input and output. *lib: This function is used to wrap python external libraries. *signal: Used for processing signal tools 2)Pandas: Pandas is the most important data analysis library of python.Being open source,it is used for analysing data with python.\n",
    "\n",
    "The following codes can be run to implement different operations on pandas.\n",
    "\n",
    "*Import pandas as pd, it is highly suggested to import the library as pd. *pd.read_filetype()(to open the desired file) *pd.data frame()(to convert a specified python object)\n",
    "\n",
    "3)Numeric python: Numpy guarantee swift execution as it is accumulated with applications and services that can understand and analyse human languages and data.\n",
    "\n",
    "We need to import Numpy into memory to perform numerical operations.\n",
    "\n",
    "*Import numpy as np. *A_values=[20,30,40,50] *A=np.array *print(A) print(A9/5+32)"
   ]
  },
  {
   "cell_type": "markdown",
   "id": "c9c18118",
   "metadata": {},
   "source": [
    "# Q4. How does NumPy deal with files?"
   ]
  },
  {
   "cell_type": "raw",
   "id": "55b053e6",
   "metadata": {},
   "source": [
    "Numpy introduces a simple file format for ndarray objects.This .npy file stores data, shape, dty And other information required to reconstruct the ndarray in a disk file such that the array is correctly retrieved even if the file is on another machine with different architecture."
   ]
  },
  {
   "cell_type": "markdown",
   "id": "fc1cb3af",
   "metadata": {},
   "source": [
    "# Q5. Mention the importance of NumPy.empty()."
   ]
  },
  {
   "cell_type": "raw",
   "id": "73c9cc84",
   "metadata": {},
   "source": [
    "The empty() function is used to create a new array of given shape and type,without initializing entries.Shape of the empty array, e.g (2,3) or 2.Desired output data type for the array,e.g,numpy .int8."
   ]
  },
  {
   "cell_type": "code",
   "execution_count": null,
   "id": "aac992dc",
   "metadata": {},
   "outputs": [],
   "source": []
  }
 ],
 "metadata": {
  "kernelspec": {
   "display_name": "Python 3 (ipykernel)",
   "language": "python",
   "name": "python3"
  },
  "language_info": {
   "codemirror_mode": {
    "name": "ipython",
    "version": 3
   },
   "file_extension": ".py",
   "mimetype": "text/x-python",
   "name": "python",
   "nbconvert_exporter": "python",
   "pygments_lexer": "ipython3",
   "version": "3.9.2"
  }
 },
 "nbformat": 4,
 "nbformat_minor": 5
}
