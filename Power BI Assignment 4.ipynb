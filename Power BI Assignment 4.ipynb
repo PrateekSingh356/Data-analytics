{
 "cells": [
  {
   "cell_type": "markdown",
   "id": "d7f0be6a",
   "metadata": {},
   "source": [
    "# Power BI Assignment 4"
   ]
  },
  {
   "cell_type": "markdown",
   "id": "5226d2b8",
   "metadata": {},
   "source": [
    "# Q1. Explain DAX"
   ]
  },
  {
   "cell_type": "markdown",
   "id": "787ddb05",
   "metadata": {},
   "source": [
    "DAX is the formula language associated with the Data Model of Microsoft Excel Power Pivot and with Microsoft Power BI. It is used to calculate values, create calculated columns, filter query and many other tasks through Expressions or formulas. DAX formulas enable you to perform data modeling, data analysis, and use the results for reporting and decision making. DAX is a very important skill for Analyst to work with Power BI.\n",
    "\n",
    "A sample DAX Expression.\n",
    "\n",
    "Total Sales in East = ADDCOLUMNS ( Products,\"East_Sales\", SUMX (RELATEDTABLE(East_Sales), IF([Product] = East_Sales[Product], East_Sales[Sales Amount],0) ) )"
   ]
  },
  {
   "cell_type": "markdown",
   "id": "4b43c547",
   "metadata": {},
   "source": [
    "# Q2. Explain datasets, reports, and dashboards and how they relate to each other?"
   ]
  },
  {
   "cell_type": "markdown",
   "id": "bfae9a03",
   "metadata": {},
   "source": [
    "Dataset is a collection of raw data from one or multiple data sources which the Analyst uses to clean, Analyze, Visualize, get insight and create reports and Dashboards. It is a raw form of data which contains attributes which when processed might help in understanding the task and draw conclusions. There are multiple types of Dataset such as Table, Links, Trees, Network, Geo-spatial etc.,\n",
    "\n",
    "Reports is a page or series of pages which contains multiple tiles depicting some values or graphs in form of visualizations which are colourful and interactive. It can convey the performance of Business. If streaming data is supplied, dynamic changes are reflected in Visualizations in reports. Multiple reports are created for different areas of Business and the reports are watched closely by stakeholders.\n",
    "\n",
    "Dashboards are also a form of reports. The unique thing is it a summarized form of report. It contains the same elements as reports have. But the important key information alone is added to dashboard from multiple reports. For example, we may create multiple indivudual reports on Facebook, Instragram, LinkedIn data how people interact with our Business page. A Dashboard for same case might try to depict \"How to Digital media covers audience and accounts for Business?\" which may contain some tile or visuals from the reports created individually on Facebook, Instagram or LinkedIn data.\n",
    "\n",
    "Relation between these three is in hierarchical Manner. From processed Dataset we create multiple reports and from multiple reports, we create unique Dashboards. Ofcourse both reports and Dashboards are accessible to stakeholders. Dataset is processed is Power BI desktop and Reports and Dashboards are accessed by stakeholders through Power BI service/Mobile."
   ]
  },
  {
   "cell_type": "markdown",
   "id": "4cae67d8",
   "metadata": {},
   "source": [
    "# Q3. How reports can be created in power BI, explain two ways with Navigation of each."
   ]
  },
  {
   "cell_type": "markdown",
   "id": "18bced4d",
   "metadata": {},
   "source": [
    "There are 3 primary sections in home page which is used to create contents in Reports\n",
    "\n",
    "Canvas - The center blank white is the canvas where visuals will appear\n",
    "\n",
    "Fields Pane - Contains queries and columns of the dataset\n",
    "\n",
    "Visualization Pane - To edit and format visualizations\n",
    "\n",
    "Reports can be created in two ways\n",
    "\n",
    "Select the fields first then visualizations after\n",
    "\n",
    "Select the type of visual first then the fields after\n",
    "METHOD 1\n",
    "\n",
    "step 1 - Select 2 columns from Field Pane to visualize the data in 2D chart.\n",
    "\n",
    "step 2 - When clicking them, a suitable visual will appear in the canvas area.\n",
    "\n",
    "step 3 - Drag them and position them properly. Use formatting options in Visualization Pane for Customization.\n",
    "\n",
    "step 4 - If you want to change the type of graph, select the chart tile in canvas and click the required type of graph in Visualization Pane.\n",
    "METHOD 2\n",
    "\n",
    "step 1 - Select the chart type. An empty tile will appear in Canvas.\n",
    "\n",
    "step 2 - Click and drag the Columns to Fields and Values field in Visualization pane.\n",
    "\n",
    "step 3 - If we want to categorize the 2D plot with category as 3rd Dimension, the drop the column in Legend Field\n",
    "\n",
    "step 4 - Use formatting options in Visualization Pane for Customization.\n",
    "\n",
    "Click File-->Save and type the name of the report. Now once we save our Report in Power BI desktop, it is time to publish it in Power BI service. Click on \"Publish\" option in Home Tab. Type the Name of report and select the workspace on which you want to publish the report. Now we have created a report for the stakeholders in workspace."
   ]
  },
  {
   "cell_type": "markdown",
   "id": "c9c18118",
   "metadata": {},
   "source": [
    "# Q4. How to connect to data in Power BI? How to use the content pack to connect to google analytics? Mention the steps."
   ]
  },
  {
   "cell_type": "raw",
   "id": "2c29ff5a",
   "metadata": {},
   "source": [
    "To Connect to a Data source, click on \"Get Data\" option in Home Tab. Select the respective Data source. There are multiple sources of data to connect with, i.e, to Database or Cloud or Local File etc.,\n",
    "\n",
    "Using Content Pack to Connect to Google Analytics\n",
    "-In the left navigation pane, click Get Data\n",
    "-In the Services box, click Get.\n",
    "-Enter the Google Analytics account, property, and view that you want to connect to. Then sign in with your Google Analytics credentials.\n",
    "-To permit Power BI to connect to Google Analytics, click Accept.\n",
    "-When the import process completes, you will see a new dashboard, report, and model in the Navigation Pane. Select the dashboard to view your imported data. image"
   ]
  },
  {
   "cell_type": "markdown",
   "id": "fc1cb3af",
   "metadata": {},
   "source": [
    "# Q5. How to import Local files in Power BI? Mention the Steps"
   ]
  },
  {
   "cell_type": "raw",
   "id": "f7e411f2",
   "metadata": {},
   "source": [
    "-In the home tab, click on \"Get Data\". Select the type of file from the list available.\n",
    "-If not available, then click on \"more\" and in search for the type of file which you want to load from local disk.\n",
    "-Once you select the type of file and click \"Connect\", a window opens allowing you to select the file where it is available.\n",
    "-Select the file and click \"Open\"\n",
    "-If it is an Excel/CSV file, select the sheets which you want to load and click \"Load\""
   ]
  },
  {
   "cell_type": "markdown",
   "id": "ad1ef472",
   "metadata": {},
   "source": [
    "# Q6. In Power BI visualization, what are Reading View and Editing view?"
   ]
  },
  {
   "cell_type": "raw",
   "id": "6aaae283",
   "metadata": {},
   "source": [
    "There are two modes of interacting with the visualizing in reports\n",
    "\n",
    "Reading view\n",
    "Editing view\n",
    "In Reading mode, users can only view or interact with the published reports in Power BI service. Clients in the workspace are restricted with Reading mode. But still users can view the visualizations changing dynamically, identify patterns/trend, get insights, query the reports.\n",
    "\n",
    "Editing mode is generally used by Report designers or Analysts who collect data and create reports. Only they can add or delete tiles or visualizations from the reports. A much of modification priviledge is granted in this view."
   ]
  },
  {
   "cell_type": "code",
   "execution_count": null,
   "id": "8757d165",
   "metadata": {},
   "outputs": [],
   "source": []
  }
 ],
 "metadata": {
  "kernelspec": {
   "display_name": "Python 3 (ipykernel)",
   "language": "python",
   "name": "python3"
  },
  "language_info": {
   "codemirror_mode": {
    "name": "ipython",
    "version": 3
   },
   "file_extension": ".py",
   "mimetype": "text/x-python",
   "name": "python",
   "nbconvert_exporter": "python",
   "pygments_lexer": "ipython3",
   "version": "3.9.2"
  }
 },
 "nbformat": 4,
 "nbformat_minor": 5
}
